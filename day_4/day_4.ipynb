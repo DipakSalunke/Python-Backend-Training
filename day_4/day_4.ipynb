{
 "cells": [
  {
   "cell_type": "markdown",
   "metadata": {},
   "source": [
    "- Write an iterator yourself\n",
    "    - Create a class that implements `__iter__` and `__next__` methods.\n",
    "    - It should accept a string and provide an iterator that traverses every other character in the string i.e. given `hello`, provide `h`, `l`, `o` and `StopIteration` on consecutive next calls."
   ]
  },
  {
   "cell_type": "code",
   "execution_count": 1,
   "metadata": {},
   "outputs": [
    {
     "name": "stdout",
     "output_type": "stream",
     "text": [
      "P t o\n"
     ]
    }
   ],
   "source": [
    "class Jumper:\n",
    "    def __init__(self,s):\n",
    "        self.s = s\n",
    "    def __iter__(self):\n",
    "        self.cnt = 0\n",
    "        return self\n",
    "    def __next__(self):\n",
    "        if self.cnt < len(self.s):\n",
    "            self.cnt+=2\n",
    "            return self.s[self.cnt-2]\n",
    "        else:\n",
    "            raise StopIteration\n",
    "j = Jumper('Python')\n",
    "it = iter(j)\n",
    "print(next(it),next(it),next(it))"
   ]
  },
  {
   "cell_type": "code",
   "execution_count": 2,
   "metadata": {},
   "outputs": [
    {
     "ename": "StopIteration",
     "evalue": "",
     "output_type": "error",
     "traceback": [
      "\u001b[1;31m---------------------------------------------------------------------------\u001b[0m",
      "\u001b[1;31mStopIteration\u001b[0m                             Traceback (most recent call last)",
      "\u001b[1;32m<ipython-input-2-bc1ab118995a>\u001b[0m in \u001b[0;36m<module>\u001b[1;34m\u001b[0m\n\u001b[1;32m----> 1\u001b[1;33m \u001b[0mnext\u001b[0m\u001b[1;33m(\u001b[0m\u001b[0mit\u001b[0m\u001b[1;33m)\u001b[0m\u001b[1;33m\u001b[0m\u001b[1;33m\u001b[0m\u001b[0m\n\u001b[0m",
      "\u001b[1;32m<ipython-input-1-4f0bce26b59a>\u001b[0m in \u001b[0;36m__next__\u001b[1;34m(self)\u001b[0m\n\u001b[0;32m     10\u001b[0m             \u001b[1;32mreturn\u001b[0m \u001b[0mself\u001b[0m\u001b[1;33m.\u001b[0m\u001b[0ms\u001b[0m\u001b[1;33m[\u001b[0m\u001b[0mself\u001b[0m\u001b[1;33m.\u001b[0m\u001b[0mcnt\u001b[0m\u001b[1;33m-\u001b[0m\u001b[1;36m2\u001b[0m\u001b[1;33m]\u001b[0m\u001b[1;33m\u001b[0m\u001b[1;33m\u001b[0m\u001b[0m\n\u001b[0;32m     11\u001b[0m         \u001b[1;32melse\u001b[0m\u001b[1;33m:\u001b[0m\u001b[1;33m\u001b[0m\u001b[1;33m\u001b[0m\u001b[0m\n\u001b[1;32m---> 12\u001b[1;33m             \u001b[1;32mraise\u001b[0m \u001b[0mStopIteration\u001b[0m\u001b[1;33m\u001b[0m\u001b[1;33m\u001b[0m\u001b[0m\n\u001b[0m\u001b[0;32m     13\u001b[0m \u001b[0mj\u001b[0m \u001b[1;33m=\u001b[0m \u001b[0mJumper\u001b[0m\u001b[1;33m(\u001b[0m\u001b[1;34m'Python'\u001b[0m\u001b[1;33m)\u001b[0m\u001b[1;33m\u001b[0m\u001b[1;33m\u001b[0m\u001b[0m\n\u001b[0;32m     14\u001b[0m \u001b[0mit\u001b[0m \u001b[1;33m=\u001b[0m \u001b[0miter\u001b[0m\u001b[1;33m(\u001b[0m\u001b[0mj\u001b[0m\u001b[1;33m)\u001b[0m\u001b[1;33m\u001b[0m\u001b[1;33m\u001b[0m\u001b[0m\n",
      "\u001b[1;31mStopIteration\u001b[0m: "
     ]
    }
   ],
   "source": [
    "next(it)"
   ]
  },
  {
   "cell_type": "markdown",
   "metadata": {},
   "source": [
    "- create a CSV file containing names and experience of the participants. Note: Not xls, just a comma separated plain text file."
   ]
  },
  {
   "cell_type": "code",
   "execution_count": 3,
   "metadata": {},
   "outputs": [],
   "source": [
    "import csv\n",
    "row_list = [[\"SN\", \"Name\", \"experience in yrs\"],\n",
    "             [1, \"Eren\", '3'],\n",
    "             [2, \"Mikasa\", '4.5'],\n",
    "             [3, \"Levi\", \"<1\"]]\n",
    "\n",
    "with open('protagonist.csv', 'w', newline='') as file:\n",
    "    writer = csv.writer(file)\n",
    "    writer.writerows(row_list)\n",
    "    "
   ]
  },
  {
   "cell_type": "code",
   "execution_count": 4,
   "metadata": {},
   "outputs": [
    {
     "name": "stdout",
     "output_type": "stream",
     "text": [
      "SN, Name, experience in yrs\n",
      "1, Eren, 3\n",
      "2, Mikasa, 4.5\n",
      "3, Levi, <1\n"
     ]
    }
   ],
   "source": [
    "with open('protagonist.csv', 'r') as file:\n",
    "    r = csv.reader(file)\n",
    "    for row in r:\n",
    "        print(', '.join(row))"
   ]
  },
  {
   "cell_type": "markdown",
   "metadata": {},
   "source": [
    "- write a program to traverse the current directory (recursively) and print only python file names."
   ]
  },
  {
   "cell_type": "code",
   "execution_count": 5,
   "metadata": {},
   "outputs": [
    {
     "name": "stdout",
     "output_type": "stream",
     "text": [
      "req.py\n",
      "d.py\n",
      "e.py\n"
     ]
    }
   ],
   "source": [
    "import os\n",
    "path=\"./\"\n",
    "for path, folders, files in os.walk(path):\n",
    "    [print(file) for file in files if file.endswith(\".py\")]            "
   ]
  },
  {
   "cell_type": "markdown",
   "metadata": {},
   "source": [
    "- use standard lib sys to list all the command line args given to your program"
   ]
  },
  {
   "cell_type": "code",
   "execution_count": 6,
   "metadata": {},
   "outputs": [
    {
     "name": "stdout",
     "output_type": "stream",
     "text": [
      "Total arguments passed: 3\n",
      "\n",
      "Name of Python script: C:\\Users\\dipak\\anaconda3\\lib\\site-packages\\ipykernel_launcher.py\n",
      "\n",
      "Arguments passed: -f C:\\Users\\dipak\\AppData\\Roaming\\jupyter\\runtime\\kernel-07bc0e0a-8890-461a-8f9d-dff7c21ef7aa.json "
     ]
    }
   ],
   "source": [
    "import sys\n",
    "n = len(sys.argv)\n",
    "print(\"Total arguments passed:\", n) \n",
    "print(\"\\nName of Python script:\", sys.argv[0]) \n",
    "print(\"\\nArguments passed:\", end = \" \")\n",
    "for i in range(1, n):\n",
    "    print(sys.argv[i], end = \" \")     "
   ]
  },
  {
   "cell_type": "markdown",
   "metadata": {},
   "source": [
    "- Rewrite the guessing game program to throw a custom error when the user is out of tries. "
   ]
  },
  {
   "cell_type": "code",
   "execution_count": 7,
   "metadata": {},
   "outputs": [],
   "source": [
    "class Error(Exception):\n",
    "    \"\"\"Base class for other exceptions\"\"\"\n",
    "    pass\n",
    "\n",
    "\n",
    "class ValueTooSmallError(Error):\n",
    "    \"\"\"Raised when the input value is too small\"\"\"\n",
    "    pass\n",
    "\n",
    "\n",
    "class ValueTooLargeError(Error):\n",
    "    \"\"\"Raised when the input value is too large\"\"\"\n",
    "    pass\n",
    "\n",
    "class UserOutOfTriesError(Error):\n",
    "    \"\"\"Raised when user is out of tries\"\"\"\n",
    "    pass"
   ]
  },
  {
   "cell_type": "code",
   "execution_count": 8,
   "metadata": {},
   "outputs": [
    {
     "name": "stdout",
     "output_type": "stream",
     "text": [
      "What is your name?\n",
      "dipak\n",
      "Hello, dipak, I am thinking of a number between 1 and 20\n",
      "Take a guess\n",
      "10\n",
      "This value is too small, try again!\n",
      "\n",
      "Take a guess\n",
      "15\n",
      "This value is too small, try again!\n",
      "\n",
      "Take a guess\n",
      "17\n",
      "This value is too small, try again!\n",
      "\n",
      "Take a guess\n",
      "19\n",
      "This value is too small, try again!\n",
      "\n",
      "\n",
      "oops. You have reached the guessing limit. The number that I was thinking is 20\n",
      "\n"
     ]
    }
   ],
   "source": [
    "from random import randint\n",
    "guessesTaken = 0\n",
    "myName = input('What is your name?\\n')\n",
    "number = randint(1, 20)\n",
    "print('Hello, ' + myName + ', I am thinking of a number between 1 and 20')\n",
    "try:\n",
    "    while guessesTaken < 4:\n",
    "        try:\n",
    "            guess = int(input('Take a guess\\n'))\n",
    "            guessesTaken = guessesTaken + 1 \n",
    "            if guess < number:\n",
    "                raise ValueTooSmallError\n",
    "            elif guess == number:\n",
    "                break\n",
    "            else:\n",
    "                raise ValueTooLargeError\n",
    "        except ValueTooSmallError:\n",
    "            print(\"This value is too small, try again!\")\n",
    "            print()\n",
    "        except ValueTooLargeError:\n",
    "            print(\"This value is too large, try again!\")\n",
    "            print()\n",
    "    else:\n",
    "        raise UserOutOfTriesError\n",
    "except UserOutOfTriesError:\n",
    "    print('\\noops. You have reached the guessing limit. The number that I was '\n",
    "          +\n",
    "          'thinking is ' + str(number))\n",
    "    print()\n",
    "else:\n",
    "    print('\\nGood job, ' + myName + '! You guessed the correct number in ' +\n",
    "              str(guessesTaken) + ' guesses!')\n",
    "    "
   ]
  },
  {
   "cell_type": "markdown",
   "metadata": {},
   "source": [
    "- accept input from a user and handle type, value errors"
   ]
  },
  {
   "cell_type": "code",
   "execution_count": 9,
   "metadata": {},
   "outputs": [],
   "source": [
    "def sum(a,b):\n",
    "    try:\n",
    "        s = a+b\n",
    "        print(s)\n",
    "        c = int(input(\"Multiply prev addition :\"))\n",
    "        s *= c\n",
    "        print(s)\n",
    "    except TypeError:\n",
    "        print(\" Var Type of both args should be the same\")\n",
    "    except ValueError:\n",
    "        print(\"Enter int value for the multiplier\")"
   ]
  },
  {
   "cell_type": "code",
   "execution_count": 10,
   "metadata": {},
   "outputs": [
    {
     "name": "stdout",
     "output_type": "stream",
     "text": [
      " Var Type of both args should be the same\n"
     ]
    }
   ],
   "source": [
    "sum(\"\",5)"
   ]
  },
  {
   "cell_type": "code",
   "execution_count": 12,
   "metadata": {},
   "outputs": [
    {
     "name": "stdout",
     "output_type": "stream",
     "text": [
      "tl\n",
      "Multiply prev addition :e\n",
      "Enter int value for the multiplier\n"
     ]
    }
   ],
   "source": [
    "sum(\"t\",\"l\")"
   ]
  },
  {
   "cell_type": "markdown",
   "metadata": {},
   "source": [
    "- demonstrate key and index errors in an example\n"
   ]
  },
  {
   "cell_type": "code",
   "execution_count": 13,
   "metadata": {},
   "outputs": [
    {
     "name": "stdout",
     "output_type": "stream",
     "text": [
      "KeyError: Key not present\n"
     ]
    }
   ],
   "source": [
    "D = {'1':\"aa\", '2':\"bb\", '3':\"cc\"}\n",
    "try:\n",
    "    D['4']\n",
    "except KeyError:\n",
    "    print(\"KeyError: Key not present\")"
   ]
  },
  {
   "cell_type": "code",
   "execution_count": 14,
   "metadata": {},
   "outputs": [
    {
     "name": "stdout",
     "output_type": "stream",
     "text": [
      "IndexError: list index out of range\n"
     ]
    }
   ],
   "source": [
    "L = [1,2,3]\n",
    "try:\n",
    "    L[3]\n",
    "except IndexError:\n",
    "    print(\"IndexError: list index out of range\")"
   ]
  },
  {
   "cell_type": "markdown",
   "metadata": {},
   "source": [
    "- use [requests](https://pypi.org/project/requests/) to grab contents of a web page and print the page title\n",
    "    - create a virtual environment, install requests, access a website and print the title, add a requirements.txt with your environment packages (pip freeze) and share this repo"
   ]
  },
  {
   "cell_type": "markdown",
   "metadata": {},
   "source": [
    "```python\n",
    "python -m venv ./new_env\n",
    "cd new_env/Scripts/\n",
    "activate.bat\n",
    "pip install requests\n",
    "pip install bs4\n",
    "```"
   ]
  },
  {
   "cell_type": "code",
   "execution_count": 15,
   "metadata": {},
   "outputs": [
    {
     "name": "stdout",
     "output_type": "stream",
     "text": [
      "Title of the website is : \n",
      "requests · PyPI\n"
     ]
    }
   ],
   "source": [
    "#req.py\n",
    "import requests\n",
    "from bs4 import BeautifulSoup \n",
    "r = requests.get('https://pypi.org/project/requests/')\n",
    "soup = BeautifulSoup(r.text,'html.parser') \n",
    "print(\"Title of the website is : \") \n",
    "print(soup.title.get_text())"
   ]
  },
  {
   "cell_type": "markdown",
   "metadata": {},
   "source": [
    "```python\n",
    "python req.py\n",
    "pip freeze > requirements.txt\n",
    "cd new_env/Scripts/\n",
    "deactivate.bat\n",
    "```"
   ]
  },
  {
   "cell_type": "markdown",
   "metadata": {},
   "source": [
    " - Can you create an iterator for the recursive directory traversal program above?\n",
    "    - accept a path as input and provide an object that's an iterable the provides the python files available in that path (and in subdirs) one by one and at the end `StopIteration`"
   ]
  },
  {
   "cell_type": "code",
   "execution_count": 19,
   "metadata": {},
   "outputs": [
    {
     "name": "stdout",
     "output_type": "stream",
     "text": [
      "req.py\n",
      "d.py\n",
      "e.py\n"
     ]
    }
   ],
   "source": [
    "import os\n",
    "class py_files:\n",
    "    def __init__(self,path):\n",
    "        self.path = path\n",
    "        self.flat_list = []\n",
    "    def __iter__(self):\n",
    "        self.cnt=0\n",
    "        pys=[]\n",
    "        for path, folders, files in os.walk(self.path):\n",
    "            [pys.append(file) for file in files if file.endswith(\".py\")]\n",
    "        self.flatten_list(pys)\n",
    "        return self\n",
    "    def __next__(self):\n",
    "        if self.cnt<len(self.flat_list):\n",
    "            self.cnt+=1\n",
    "            return self.flat_list[self.cnt-1]\n",
    "        else:\n",
    "            raise StopIteration\n",
    "    def flatten_list(self,data):\n",
    "        for element in data:\n",
    "            if type(element) == list:\n",
    "                flatten_list(element)\n",
    "            else:\n",
    "                self.flat_list.append(element)\n",
    "\n",
    "f = py_files(\"./\")\n",
    "it = iter(f)\n",
    "print(next(it))\n",
    "print(next(it))\n",
    "print(next(it))"
   ]
  },
  {
   "cell_type": "code",
   "execution_count": 20,
   "metadata": {},
   "outputs": [
    {
     "ename": "StopIteration",
     "evalue": "",
     "output_type": "error",
     "traceback": [
      "\u001b[1;31m---------------------------------------------------------------------------\u001b[0m",
      "\u001b[1;31mStopIteration\u001b[0m                             Traceback (most recent call last)",
      "\u001b[1;32m<ipython-input-20-4d0222393be1>\u001b[0m in \u001b[0;36m<module>\u001b[1;34m\u001b[0m\n\u001b[1;32m----> 1\u001b[1;33m \u001b[0mprint\u001b[0m\u001b[1;33m(\u001b[0m\u001b[0mnext\u001b[0m\u001b[1;33m(\u001b[0m\u001b[0mit\u001b[0m\u001b[1;33m)\u001b[0m\u001b[1;33m)\u001b[0m\u001b[1;33m\u001b[0m\u001b[1;33m\u001b[0m\u001b[0m\n\u001b[0m",
      "\u001b[1;32m<ipython-input-19-1213644c848d>\u001b[0m in \u001b[0;36m__next__\u001b[1;34m(self)\u001b[0m\n\u001b[0;32m     16\u001b[0m             \u001b[1;32mreturn\u001b[0m \u001b[0mself\u001b[0m\u001b[1;33m.\u001b[0m\u001b[0mflat_list\u001b[0m\u001b[1;33m[\u001b[0m\u001b[0mself\u001b[0m\u001b[1;33m.\u001b[0m\u001b[0mcnt\u001b[0m\u001b[1;33m-\u001b[0m\u001b[1;36m1\u001b[0m\u001b[1;33m]\u001b[0m\u001b[1;33m\u001b[0m\u001b[1;33m\u001b[0m\u001b[0m\n\u001b[0;32m     17\u001b[0m         \u001b[1;32melse\u001b[0m\u001b[1;33m:\u001b[0m\u001b[1;33m\u001b[0m\u001b[1;33m\u001b[0m\u001b[0m\n\u001b[1;32m---> 18\u001b[1;33m             \u001b[1;32mraise\u001b[0m \u001b[0mStopIteration\u001b[0m\u001b[1;33m\u001b[0m\u001b[1;33m\u001b[0m\u001b[0m\n\u001b[0m\u001b[0;32m     19\u001b[0m     \u001b[1;32mdef\u001b[0m \u001b[0mflatten_list\u001b[0m\u001b[1;33m(\u001b[0m\u001b[0mself\u001b[0m\u001b[1;33m,\u001b[0m\u001b[0mdata\u001b[0m\u001b[1;33m)\u001b[0m\u001b[1;33m:\u001b[0m\u001b[1;33m\u001b[0m\u001b[1;33m\u001b[0m\u001b[0m\n\u001b[0;32m     20\u001b[0m         \u001b[1;32mfor\u001b[0m \u001b[0melement\u001b[0m \u001b[1;32min\u001b[0m \u001b[0mdata\u001b[0m\u001b[1;33m:\u001b[0m\u001b[1;33m\u001b[0m\u001b[1;33m\u001b[0m\u001b[0m\n",
      "\u001b[1;31mStopIteration\u001b[0m: "
     ]
    }
   ],
   "source": [
    "print(next(it))"
   ]
  },
  {
   "cell_type": "code",
   "execution_count": null,
   "metadata": {},
   "outputs": [],
   "source": []
  }
 ],
 "metadata": {
  "kernelspec": {
   "display_name": "Python 3",
   "language": "python",
   "name": "python3"
  },
  "language_info": {
   "codemirror_mode": {
    "name": "ipython",
    "version": 3
   },
   "file_extension": ".py",
   "mimetype": "text/x-python",
   "name": "python",
   "nbconvert_exporter": "python",
   "pygments_lexer": "ipython3",
   "version": "3.8.5"
  }
 },
 "nbformat": 4,
 "nbformat_minor": 4
}
