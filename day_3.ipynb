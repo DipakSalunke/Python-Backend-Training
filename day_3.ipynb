{
 "cells": [
  {
   "cell_type": "markdown",
   "metadata": {},
   "source": [
    "## dictionaries\n",
    "> - given a list of numbers (`nums = [1, 2, 3]`) use dict comprehension to create a dict of squares `{ 1: 1, 2: 4, 3: 9}`"
   ]
  },
  {
   "cell_type": "code",
   "execution_count": 1,
   "metadata": {},
   "outputs": [],
   "source": [
    "nums=[1, 2, 3]\n",
    "dict_of_squares = {n:n*n for n in nums}"
   ]
  },
  {
   "cell_type": "code",
   "execution_count": 2,
   "metadata": {},
   "outputs": [
    {
     "data": {
      "text/plain": [
       "{1: 1, 2: 4, 3: 9}"
      ]
     },
     "execution_count": 2,
     "metadata": {},
     "output_type": "execute_result"
    }
   ],
   "source": [
    "dict_of_squares"
   ]
  },
  {
   "cell_type": "markdown",
   "metadata": {},
   "source": [
    "> - make a list of values alone from the above dictionary `[1, 4, 9]` using list comprehension\n"
   ]
  },
  {
   "cell_type": "code",
   "execution_count": 3,
   "metadata": {},
   "outputs": [],
   "source": [
    "values = [ value for value in dict_of_squares.values()]"
   ]
  },
  {
   "cell_type": "code",
   "execution_count": 4,
   "metadata": {},
   "outputs": [
    {
     "data": {
      "text/plain": [
       "[1, 4, 9]"
      ]
     },
     "execution_count": 4,
     "metadata": {},
     "output_type": "execute_result"
    }
   ],
   "source": [
    "values"
   ]
  },
  {
   "cell_type": "markdown",
   "metadata": {},
   "source": [
    "## set comprehension\n",
    "> - given a list `[1, 2, 5, 2, 3, 1, 4, 5]`, create squares of unique items using set comprehension. `{1, 4, 9, 16, 25}`"
   ]
  },
  {
   "cell_type": "code",
   "execution_count": 5,
   "metadata": {},
   "outputs": [],
   "source": [
    "num_list = [1, 2, 5, 2, 3, 1, 4, 5]\n",
    "set_of_squares = {num*num for num in set(num_list)}"
   ]
  },
  {
   "cell_type": "code",
   "execution_count": 6,
   "metadata": {},
   "outputs": [
    {
     "data": {
      "text/plain": [
       "{1, 4, 9, 16, 25}"
      ]
     },
     "execution_count": 6,
     "metadata": {},
     "output_type": "execute_result"
    }
   ],
   "source": [
    "set_of_squares"
   ]
  },
  {
   "cell_type": "markdown",
   "metadata": {},
   "source": [
    "## Task\n",
    "**Given a list of tuples with current and min balances: `[(\"Guido\", 2000, 500), (\"Raymond\", -52, 1000), (\"Jack\", 900, 1000), (\"Brandon\", 2000, 0)]` use comprehensions to get the below:**\n",
    "- dict of those with proper balances (above or equal min bal) `{\"Guido\": 2000, \"Brandon\": 2000}`\n",
    "- set of all balances\n",
    "`{2000, -52, 900}`\n",
    "- list of account holders\n",
    "`[\"Guido\", \"Raymond\", \"Jack\", \"Brandon\"]`\n",
    "- dict of user and money each need to fulfill the min balance requirement (those who already have enough bal should not be in the dict)  \n",
    "`{\"Raymond\": 1052, \"Jack\": 100}`\n",
    "- list of tuples with name and current balance if the balance is above 0\n",
    "`[(\"Guide\", 2000), (\"Jack\", 900), (\"Brandon\", 2000)]`"
   ]
  },
  {
   "cell_type": "code",
   "execution_count": 7,
   "metadata": {},
   "outputs": [],
   "source": [
    "balances = [(\"Guido\", 2000, 500), (\"Raymond\", -52, 1000), (\"Jack\", 900, 1000), (\"Brandon\", 2000, 0)]"
   ]
  },
  {
   "cell_type": "code",
   "execution_count": 8,
   "metadata": {},
   "outputs": [
    {
     "data": {
      "text/plain": [
       "{'Guido': 2000, 'Brandon': 2000}"
      ]
     },
     "execution_count": 8,
     "metadata": {},
     "output_type": "execute_result"
    }
   ],
   "source": [
    "proper_balances = {cust[0]:cust[1] for cust in balances if cust[1]>=cust[2]}\n",
    "proper_balances"
   ]
  },
  {
   "cell_type": "code",
   "execution_count": 9,
   "metadata": {},
   "outputs": [
    {
     "data": {
      "text/plain": [
       "{-52, 900, 2000}"
      ]
     },
     "execution_count": 9,
     "metadata": {},
     "output_type": "execute_result"
    }
   ],
   "source": [
    "set_balances = {tup[1] for tup in balances}\n",
    "set_balances"
   ]
  },
  {
   "cell_type": "code",
   "execution_count": 10,
   "metadata": {},
   "outputs": [
    {
     "data": {
      "text/plain": [
       "['Guido', 'Raymond', 'Jack', 'Brandon']"
      ]
     },
     "execution_count": 10,
     "metadata": {},
     "output_type": "execute_result"
    }
   ],
   "source": [
    "list_acc_holders = [tup[0] for tup in balances]\n",
    "list_acc_holders"
   ]
  },
  {
   "cell_type": "code",
   "execution_count": 11,
   "metadata": {},
   "outputs": [
    {
     "data": {
      "text/plain": [
       "{'Raymond': 1052, 'Jack': 100}"
      ]
     },
     "execution_count": 11,
     "metadata": {},
     "output_type": "execute_result"
    }
   ],
   "source": [
    "ins_balances = {cust[0]:cust[2]-cust[1] for cust in balances if cust[1]<cust[2]}\n",
    "ins_balances"
   ]
  },
  {
   "cell_type": "code",
   "execution_count": 12,
   "metadata": {},
   "outputs": [
    {
     "data": {
      "text/plain": [
       "{'Guido': 2000, 'Jack': 900, 'Brandon': 2000}"
      ]
     },
     "execution_count": 12,
     "metadata": {},
     "output_type": "execute_result"
    }
   ],
   "source": [
    "pos_balances = {cust[0]:cust[1] for cust in balances if cust[1]>0}\n",
    "pos_balances"
   ]
  },
  {
   "cell_type": "markdown",
   "metadata": {},
   "source": [
    "## Task\n",
    "- Write a `Developer` class that has a `code` function and a `languages` list.\n",
    "- `code` function should accept a `language` param and if the `language` is in the `languages` list it should print \n",
    "`code in <language>`.\n",
    "- `resume` function that prints `languages` of the developer.\n",
    "- Write a `SrDeveloper` class that inherits `Developer` and adds `review` function. `review` should also be limited to `languages` list.\n",
    "- Write a `TechLead` class that inherits from `SrDeveloper` and adds `design` function"
   ]
  },
  {
   "cell_type": "code",
   "execution_count": 13,
   "metadata": {},
   "outputs": [],
   "source": [
    "class Developer:\n",
    "    sup_lang = [\"JAVASCRIPT\",\"PYTHON\",\"JAVA\"]\n",
    "    def __init__(self):\n",
    "        self.dev_lang = []\n",
    "    def code(self,language):\n",
    "        if language in self.sup_lang:\n",
    "            self.dev_lang.append(language)\n",
    "            print(f'code in {language}')\n",
    "        else:\n",
    "            print(f'code language not supported')\n",
    "    def resume(self):\n",
    "        print('Resume:')\n",
    "        print(f'\\tcode in {self.dev_lang}')\n",
    "            \n",
    "class SrDeveloper(Developer):\n",
    "    def __init__(self,dev=Developer()):\n",
    "        self.reviews = []\n",
    "        self.dev_lang = dev.dev_lang\n",
    "        self.sup_lang = dev.sup_lang\n",
    "    def review(self,rev):\n",
    "        if rev in self.sup_lang:\n",
    "            self.reviews.append(rev)\n",
    "            print(f'reviews {rev}')\n",
    "        else:\n",
    "            print(f'review language not supported')\n",
    "    def resume(self):\n",
    "        super().resume()\n",
    "        print(f'\\treviews {self.reviews}')\n",
    "        \n",
    "class TechLead(SrDeveloper):\n",
    "    def __init__(self,srd=SrDeveloper()):\n",
    "        self.dev_lang = srd.dev_lang\n",
    "        self.sup_lang = srd.sup_lang\n",
    "        self.reviews = srd.reviews\n",
    "    def design(self):\n",
    "        print(f'Designs')\n",
    "    def resume(self):\n",
    "        super().resume()   \n",
    "        print(f'\\tDesigns')"
   ]
  },
  {
   "cell_type": "code",
   "execution_count": 14,
   "metadata": {},
   "outputs": [
    {
     "name": "stdout",
     "output_type": "stream",
     "text": [
      "code in PYTHON\n",
      "code in JAVA\n",
      "Resume:\n",
      "\tcode in ['PYTHON', 'JAVA']\n"
     ]
    }
   ],
   "source": [
    "dev = Developer()\n",
    "dev.code(\"PYTHON\")\n",
    "dev.code(\"JAVA\")\n",
    "dev.resume()"
   ]
  },
  {
   "cell_type": "code",
   "execution_count": 15,
   "metadata": {},
   "outputs": [
    {
     "name": "stdout",
     "output_type": "stream",
     "text": [
      "reviews PYTHON\n",
      "Resume:\n",
      "\tcode in ['PYTHON', 'JAVA']\n",
      "\treviews ['PYTHON']\n"
     ]
    },
    {
     "data": {
      "text/plain": [
       "'\\ntest = SrDeveloper()\\ntest.code(\"JAVASCRIPT\")\\n'"
      ]
     },
     "execution_count": 15,
     "metadata": {},
     "output_type": "execute_result"
    }
   ],
   "source": [
    "sr_dev = SrDeveloper(dev)\n",
    "sr_dev.review(\"PYTHON\")\n",
    "sr_dev.resume()\n",
    "\n",
    "\n",
    "'''\n",
    "test = SrDeveloper()\n",
    "test.code(\"JAVASCRIPT\")\n",
    "'''"
   ]
  },
  {
   "cell_type": "code",
   "execution_count": 16,
   "metadata": {},
   "outputs": [
    {
     "name": "stdout",
     "output_type": "stream",
     "text": [
      "Designs\n",
      "Resume:\n",
      "\tcode in ['PYTHON', 'JAVA']\n",
      "\treviews ['PYTHON']\n",
      "\tDesigns\n"
     ]
    },
    {
     "data": {
      "text/plain": [
       "'\\ntest = TechLead()\\ntest.code(\"JAVASCRIPT\")\\ntest.code(\"tt\")\\ntest.review(\"JAVASCRIPT\")\\ntest.review(\"tt\")\\n'"
      ]
     },
     "execution_count": 16,
     "metadata": {},
     "output_type": "execute_result"
    }
   ],
   "source": [
    "TL = TechLead(sr_dev)\n",
    "TL.design()\n",
    "TL.resume()\n",
    "\n",
    "'''\n",
    "test = TechLead()\n",
    "test.code(\"JAVASCRIPT\")\n",
    "test.code(\"tt\")\n",
    "test.review(\"JAVASCRIPT\")\n",
    "test.review(\"tt\")\n",
    "'''"
   ]
  },
  {
   "cell_type": "markdown",
   "metadata": {},
   "source": [
    "  ## Task\n",
    "  - create a class that provides the factorials for the list of numbers provided.\n",
    "  - Checkout `__repr__` and `__str__` methods and implement those for your class"
   ]
  },
  {
   "cell_type": "code",
   "execution_count": 17,
   "metadata": {},
   "outputs": [],
   "source": [
    "class Fact:\n",
    "    def __init__(self,numbers):\n",
    "        self.numbers = numbers\n",
    "        self.facts = [self.factorial(n) for n in self.numbers]\n",
    "    def factorial(self,n):\n",
    "        return 1 if (n==1 or n==0) else n * self.factorial(n - 1) \n",
    "    def __str__(self):\n",
    "        return f'factorials of {self.numbers} => {self.facts}'\n",
    "    def __repr__(self):\n",
    "        return f'Fact(numbers={self.numbers},factorials={self.facts})'\n",
    "      "
   ]
  },
  {
   "cell_type": "code",
   "execution_count": 18,
   "metadata": {},
   "outputs": [
    {
     "data": {
      "text/plain": [
       "Fact(numbers=[1, 5, 9],factorials=[1, 120, 362880])"
      ]
     },
     "execution_count": 18,
     "metadata": {},
     "output_type": "execute_result"
    }
   ],
   "source": [
    "Fact([1,5,9])"
   ]
  },
  {
   "cell_type": "code",
   "execution_count": 19,
   "metadata": {},
   "outputs": [
    {
     "data": {
      "text/plain": [
       "'factorials of [1, 5, 9] => [1, 120, 362880]'"
      ]
     },
     "execution_count": 19,
     "metadata": {},
     "output_type": "execute_result"
    }
   ],
   "source": [
    "str(Fact([1,5,9]))"
   ]
  },
  {
   "cell_type": "markdown",
   "metadata": {},
   "source": [
    "## Task\n",
    "- import a func from a module and call it to print some output\n",
    "- import a func and rename it to use in your module from another\n",
    "- create a module that prints \"I'm running\" only when it's ran as a script (not as a module using import)\n",
    "- use python to open another python source file and print the contents  \n",
    "[External Module](importModule.py)"
   ]
  },
  {
   "cell_type": "code",
   "execution_count": 20,
   "metadata": {},
   "outputs": [
    {
     "name": "stdout",
     "output_type": "stream",
     "text": [
      "I'm being imported\n"
     ]
    }
   ],
   "source": [
    "from importModule import imp \n",
    "imp()"
   ]
  },
  {
   "cell_type": "code",
   "execution_count": 21,
   "metadata": {},
   "outputs": [
    {
     "name": "stdout",
     "output_type": "stream",
     "text": [
      "I'm being imported and renamed\n"
     ]
    }
   ],
   "source": [
    "from importModule import imp_and_rename as sk\n",
    "sk()"
   ]
  },
  {
   "cell_type": "code",
   "execution_count": 22,
   "metadata": {},
   "outputs": [
    {
     "name": "stdout",
     "output_type": "stream",
     "text": [
      "I'm Running\n"
     ]
    }
   ],
   "source": [
    "%run importModule"
   ]
  },
  {
   "cell_type": "code",
   "execution_count": null,
   "metadata": {},
   "outputs": [],
   "source": []
  }
 ],
 "metadata": {
  "kernelspec": {
   "display_name": "Python 3",
   "language": "python",
   "name": "python3"
  },
  "language_info": {
   "codemirror_mode": {
    "name": "ipython",
    "version": 3
   },
   "file_extension": ".py",
   "mimetype": "text/x-python",
   "name": "python",
   "nbconvert_exporter": "python",
   "pygments_lexer": "ipython3",
   "version": "3.8.5"
  }
 },
 "nbformat": 4,
 "nbformat_minor": 4
}
