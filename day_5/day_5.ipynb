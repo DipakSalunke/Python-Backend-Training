{
 "cells": [
  {
   "cell_type": "markdown",
   "metadata": {},
   "source": [
    "## Practice\n",
    "> - Make a generator to perform the same functionality of the iterator"
   ]
  },
  {
   "cell_type": "code",
   "execution_count": 1,
   "metadata": {},
   "outputs": [
    {
     "name": "stdout",
     "output_type": "stream",
     "text": [
      "<generator object prime_generator at 0x00000179A18939E0>\n",
      "<generator object square at 0x00000179A1893900>\n",
      "2 => 4\n",
      "3 => 9\n",
      "5 => 25\n",
      "7 => 49\n",
      "11 => 121\n",
      "13 => 169\n",
      "17 => 289\n",
      "19 => 361\n",
      "23 => 529\n",
      "29 => 841\n"
     ]
    }
   ],
   "source": [
    "#square of primes\n",
    "from math import sqrt\n",
    "\n",
    "def is_prime(n):\n",
    "    if (n <= 1):\n",
    "        return False\n",
    "    if (n == 2):\n",
    "        return True\n",
    "    if (n % 2 == 0):\n",
    "        return False\n",
    "\n",
    "    i = 3\n",
    "    while i <= sqrt(n):\n",
    "        if n % i == 0:\n",
    "            return False\n",
    "        i = i + 2\n",
    "\n",
    "    return True\n",
    "\n",
    "def prime_generator():\n",
    "    n = 1\n",
    "    while True:\n",
    "        n += 1\n",
    "        if is_prime(n):\n",
    "            print(n,\"=>\",end = ' ')\n",
    "            yield n\n",
    "            \n",
    "def square(nums):\n",
    "    for num in nums:\n",
    "        yield num**2        \n",
    "g = square(prime_generator())\n",
    "print(prime_generator())\n",
    "print(g)\n",
    "for i in range(10):\n",
    "    print(next(g))"
   ]
  },
  {
   "cell_type": "markdown",
   "metadata": {},
   "source": [
    "> - Try overwriting some default dunder methods and manipulate their default behavior"
   ]
  },
  {
   "cell_type": "code",
   "execution_count": 2,
   "metadata": {},
   "outputs": [],
   "source": [
    "class Book():\n",
    "    def __init__(self,title,author,pages):\n",
    "        self.title = title\n",
    "        self.author = author\n",
    "        self.pages = pages\n",
    "        \n",
    "    def __str__(self):\n",
    "        return f\"{self.title} by {self.author}\"\n",
    "    \n",
    "    def __len__(self):\n",
    "        return self.pages\n",
    "    \n",
    "    def __del__(self):\n",
    "        print(\"A book object has been deleted\")\n",
    "    \n",
    "    def __call__(self):\n",
    "        print(\"My obj\")"
   ]
  },
  {
   "cell_type": "code",
   "execution_count": 3,
   "metadata": {},
   "outputs": [
    {
     "name": "stdout",
     "output_type": "stream",
     "text": [
      "Sapiens by Yuval Noah Harari\n",
      "My obj\n"
     ]
    }
   ],
   "source": [
    "b = Book(\"Sapiens\",\"Yuval Noah Harari\",512)\n",
    "print(b)\n",
    "b()"
   ]
  },
  {
   "cell_type": "code",
   "execution_count": 4,
   "metadata": {},
   "outputs": [
    {
     "data": {
      "text/plain": [
       "512"
      ]
     },
     "execution_count": 4,
     "metadata": {},
     "output_type": "execute_result"
    }
   ],
   "source": [
    "len(b)"
   ]
  },
  {
   "cell_type": "code",
   "execution_count": 5,
   "metadata": {},
   "outputs": [
    {
     "name": "stdout",
     "output_type": "stream",
     "text": [
      "A book object has been deleted\n"
     ]
    }
   ],
   "source": [
    "del(b)"
   ]
  },
  {
   "cell_type": "markdown",
   "metadata": {},
   "source": [
    "> - Write a decorator that times a function call using timeit\n",
    "    - start a timer before func call\n",
    "    - end the timer after func call\n",
    "    - print the time diff"
   ]
  },
  {
   "cell_type": "code",
   "execution_count": 6,
   "metadata": {},
   "outputs": [],
   "source": [
    "import timeit\n",
    "from functools import wraps \n",
    "def timer(func):\n",
    "    @wraps(func)\n",
    "    def wrapper(*args, **kwargs):\n",
    "        start = timeit.default_timer()\n",
    "        func(*args, **kwargs)\n",
    "        total = timeit.default_timer()-start\n",
    "        print(\"Time:\", total)\n",
    "    return wrapper"
   ]
  },
  {
   "cell_type": "code",
   "execution_count": 7,
   "metadata": {},
   "outputs": [
    {
     "name": "stdout",
     "output_type": "stream",
     "text": [
      "Help on function func_oneit in module __main__:\n",
      "\n",
      "func_oneit(n)\n",
      "    using list comprehension\n",
      "\n",
      "Help on function func_twoit in module __main__:\n",
      "\n",
      "func_twoit(n)\n",
      "    using map\n",
      "\n",
      "Time: 0.028618799999996725\n",
      "Time: 0.02375250000000051\n"
     ]
    }
   ],
   "source": [
    "@timer\n",
    "def func_oneit(n):\n",
    "    \"using list comprehension\"\n",
    "    return [str(num) for num in range(n)]\n",
    "@timer\n",
    "def func_twoit(n):\n",
    "    \"using map\"\n",
    "    return list(map(str,range(n)))\n",
    "help(func_oneit)\n",
    "help(func_twoit)\n",
    "func_oneit(100000)\n",
    "func_twoit(100000)"
   ]
  },
  {
   "cell_type": "code",
   "execution_count": 8,
   "metadata": {},
   "outputs": [],
   "source": [
    "def func_one(n):\n",
    "    return [str(num) for num in range(n)]\n",
    "def func_two(n):\n",
    "    return list(map(str,range(n)))"
   ]
  },
  {
   "cell_type": "code",
   "execution_count": 9,
   "metadata": {},
   "outputs": [
    {
     "name": "stdout",
     "output_type": "stream",
     "text": [
      "2.0858473000000046\n",
      "1.7709319000000079\n"
     ]
    }
   ],
   "source": [
    "print(timeit.timeit(stmt=\"func_one(100)\",number=100000, globals=globals()))\n",
    "print(timeit.timeit(stmt=\"func_two(100)\",number=100000, globals=globals()))"
   ]
  },
  {
   "cell_type": "code",
   "execution_count": 10,
   "metadata": {},
   "outputs": [
    {
     "name": "stdout",
     "output_type": "stream",
     "text": [
      "20.7 µs ± 948 ns per loop (mean ± std. dev. of 7 runs, 10000 loops each)\n"
     ]
    }
   ],
   "source": [
    "%%timeit\n",
    "func_one(100)"
   ]
  },
  {
   "cell_type": "code",
   "execution_count": 11,
   "metadata": {},
   "outputs": [
    {
     "name": "stdout",
     "output_type": "stream",
     "text": [
      "17.6 µs ± 678 ns per loop (mean ± std. dev. of 7 runs, 100000 loops each)\n"
     ]
    }
   ],
   "source": [
    "%%timeit\n",
    "func_two(100)"
   ]
  },
  {
   "cell_type": "code",
   "execution_count": null,
   "metadata": {},
   "outputs": [],
   "source": []
  }
 ],
 "metadata": {
  "kernelspec": {
   "display_name": "Python 3",
   "language": "python",
   "name": "python3"
  },
  "language_info": {
   "codemirror_mode": {
    "name": "ipython",
    "version": 3
   },
   "file_extension": ".py",
   "mimetype": "text/x-python",
   "name": "python",
   "nbconvert_exporter": "python",
   "pygments_lexer": "ipython3",
   "version": "3.8.5"
  }
 },
 "nbformat": 4,
 "nbformat_minor": 4
}
